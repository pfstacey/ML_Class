{
 "cells": [
  {
   "cell_type": "markdown",
   "metadata": {},
   "source": [
    "# HW2  Regression Fun Time!\n",
    "## Due Saturday Oct 16th, 2021 at Midnight"
   ]
  },
  {
   "cell_type": "markdown",
   "metadata": {},
   "source": [
    "Please run the cell below to import libraries needed for this HW. Please use the autograd numpy, otherwise you will have issues. "
   ]
  },
  {
   "cell_type": "code",
   "execution_count": 1,
   "metadata": {},
   "outputs": [],
   "source": [
    "import autograd.numpy as np\n",
    "from autograd import grad \n",
    "import matplotlib.pyplot as plt\n",
    "%matplotlib inline\n"
   ]
  },
  {
   "cell_type": "markdown",
   "metadata": {},
   "source": [
    "Q1) [10 points] Implement the linear regression model discussed in class below. The function (called model) takes in an array of data points, x , and an array of weights, w, and returns a vector y_predicted containing the linear combination for each of the data points. This is the linear model we have discussed in class. You can assume each data point in x only has one feature.  The length of the vector being returned should be the same as x.\n"
   ]
  },
  {
   "cell_type": "code",
   "execution_count": 2,
   "metadata": {},
   "outputs": [],
   "source": [
    "def model(x,w):\n",
    "    #your code here\n",
    "    #padding with ones to enable adding to w0 \n",
    "    padded_mat = np.ones(len(x))\n",
    "    x_with_ones = np.column_stack((padded_mat, x))\n",
    "    y_predicted = np.dot(x_with_ones, w)\n",
    "\n",
    "    return y_predicted"
   ]
  },
  {
   "cell_type": "markdown",
   "metadata": {},
   "source": [
    "Q2) [10 ponts] Implement the least squares function discussed in class below. The function should take in an array of weights, w, an array of x's and an array of ys. It should use the model function implemented above and return a float indicating the total cost."
   ]
  },
  {
   "cell_type": "code",
   "execution_count": 3,
   "metadata": {},
   "outputs": [],
   "source": [
    "def least_squares(w,x,y):    \n",
    "    #your code here\n",
    "    y_pred = model(x,w)\n",
    "    #squaring the difference\n",
    "    cost = np.dot((y_pred-y), np.transpose(y_pred-y)/len(y))\n",
    "    \n",
    "    return cost"
   ]
  },
  {
   "cell_type": "markdown",
   "metadata": {},
   "source": [
    "Q3) [5 point] This one is a freebie from HW1. Copy and paste your gradient descent function here. Specifically, the one that takes in the cost function as input and return the weight and cost history. We will be using a fixed alpha for this HW. The only difference is that this function should now also take in as input an array of x and ys, corresponding to our data. The w,x, and y are given as inputs to the cost funtion and its gradient."
   ]
  },
  {
   "cell_type": "code",
   "execution_count": 4,
   "metadata": {},
   "outputs": [],
   "source": [
    "from autograd import grad \n",
    "def gradient_descent(g,alpha,max_its,w,x,y):\n",
    "    #Your code here\n",
    "    gradient = grad(g)   ## This is how you use the autograd library to find the gradient of a function  \n",
    "    ##Your code here\n",
    "    weight_history = []\n",
    "    cost_history = []\n",
    "    \n",
    "    i = 0\n",
    "    current_location = w.astype(np.float)\n",
    "    while(i < max_its):\n",
    "        # calculating and updating the cost of the current_location using the original cost function \n",
    "        cost_history.append(g(current_location, x, y))\n",
    "        weight_history.append(current_location)\n",
    "\n",
    "        current_location = np.subtract(current_location, np.multiply(gradient(current_location, x, y), alpha))\n",
    "        i+=1\n",
    "    return weight_history,cost_history"
   ]
  },
  {
   "cell_type": "markdown",
   "metadata": {},
   "source": [
    "Q4) [1 points]  Run the code below to import a dataset. Then, plot a scatter plot of the data (x vs y)."
   ]
  },
  {
   "cell_type": "code",
   "execution_count": 5,
   "metadata": {},
   "outputs": [],
   "source": [
    "# import the dataset\n",
    "csvname = 'kleibers_law_data.csv'\n",
    "data = np.loadtxt(csvname,delimiter=',')\n",
    "x = np.log(data[:-1,:])\n",
    "y = np.log(data[-1:,:])\n"
   ]
  },
  {
   "cell_type": "code",
   "execution_count": 6,
   "metadata": {},
   "outputs": [
    {
     "data": {
      "image/png": "[encoded data removed]",
      "text/plain": [
       "<Figure size 432x288 with 1 Axes>"
      ]
     },
     "metadata": {
      "needs_background": "light"
     },
     "output_type": "display_data"
    }
   ],
   "source": [
    "#Your code here\n",
    "plt.plot(x[0], y[0], 'o')\n",
    "plt.title(\"Kleiver's Law Data\")\n",
    "plt.show()"
   ]
  },
  {
   "cell_type": "markdown",
   "metadata": {},
   "source": [
    "Q5) [5 points] Use your gradient descent function to learn a linear regression model for the x and y above using the following parameters and plot the cost_history over the 1000 iterations\n",
    "\n",
    "g = least_squares function you implemented\n",
    "\n",
    "w = [w_0, w_1]  , where w_0 and w_1 are random numbers between -0.1 and 0.1\n",
    "\n",
    "max_its=1000\n",
    "\n",
    "alpha=0.01"
   ]
  },
  {
   "cell_type": "code",
   "execution_count": 7,
   "metadata": {},
   "outputs": [],
   "source": [
    "def g(w,x,y):\n",
    "    return least_squares(w,x,y)"
   ]
  },
  {
   "cell_type": "code",
   "execution_count": 8,
   "metadata": {},
   "outputs": [
    {
     "data": {
      "image/png": "[encoded data removed]",
      "text/plain": [
       "<Figure size 432x288 with 1 Axes>"
      ]
     },
     "metadata": {
      "needs_background": "light"
     },
     "output_type": "display_data"
    }
   ],
   "source": [
    "#Your code here\n",
    "#finding random w values \n",
    "w0 = np.random.rand()*0.2 - 0.1\n",
    "w1 = np.random.rand()*0.2 - 0.1\n",
    "w = np.array([w0, w1])\n",
    "max_its = 1000\n",
    "alpha = 0.01\n",
    "\n",
    "weights, costs = gradient_descent(g,alpha,max_its,w,x[0],y[0])\n",
    "plt.plot(costs, 'o', label = \"alpha = 0.01\")\n",
    "plt.xlabel(\"Step k\")\n",
    "plt.ylabel(\"Cost\")\n",
    "plt.title(\"Minimizing Cost\")\n",
    "plt.legend()\n",
    "plt.show()"
   ]
  },
  {
   "cell_type": "markdown",
   "metadata": {},
   "source": [
    "Q6) [5 points] Use the learned weights from above (note that the \"learned\" weights are the ones with the lowest cost) to plot the learned line. You can use the linspace method (shown below) to generate a list of xs that you can use for plotting. You need to generate a y for each of the candidate xs using the learned weights. On the same figure, also plot the scatter plot from Q4. \n"
   ]
  },
  {
   "cell_type": "code",
   "execution_count": 9,
   "metadata": {},
   "outputs": [
    {
     "data": {
      "image/png": "[encoded data removed]",
      "text/plain": [
       "<Figure size 432x288 with 1 Axes>"
      ]
     },
     "metadata": {
      "needs_background": "light"
     },
     "output_type": "display_data"
    }
   ],
   "source": [
    "s = np.linspace(np.min(x),np.max(x))\n",
    "#Your code here\n",
    "#finding the minimum cost (it is the last index) and finding the weight at that cost \n",
    "min_weights = weights[costs.index(np.min(costs))]\n",
    "plt.plot(x[0], y[0], 'o', c='orange', label=\"Original Points\")\n",
    "plt.plot(x[0], model(x[0], min_weights), '-', c= 'red', label=\"Predicted Points\")\n",
    "plt.title(\"Predicted and Original Points\")\n",
    "plt.legend()\n",
    "plt.show()"
   ]
  },
  {
   "cell_type": "markdown",
   "metadata": {},
   "source": [
    "Q7) [1 points]  Run the code below to import a dataset. Then, plot a scatter plot of the data (x vs y). "
   ]
  },
  {
   "cell_type": "code",
   "execution_count": 10,
   "metadata": {},
   "outputs": [
    {
     "data": {
      "image/png": "[encoded data removed]",
      "text/plain": [
       "<Figure size 432x288 with 1 Axes>"
      ]
     },
     "metadata": {
      "needs_background": "light"
     },
     "output_type": "display_data"
    }
   ],
   "source": [
    "# load in dataset\n",
    "data = np.loadtxt('regression_outliers.csv',delimiter = ',')\n",
    "x = data[:-1,:]\n",
    "y = data[-1:,:] \n",
    "#Your code here\n",
    "plt.plot(x[0],y[0],'o')\n",
    "plt.title(\"Regression Outliers\")\n",
    "plt.show()"
   ]
  },
  {
   "cell_type": "markdown",
   "metadata": {},
   "source": [
    "Q8) [10 ponts] Implement the least absolute deviations function discussed in class. The function should take in an array of weights, w, an array of x's and an array of ys. It should use the model function implemented in Q1  and return a float indicating the total cost."
   ]
  },
  {
   "cell_type": "code",
   "execution_count": 11,
   "metadata": {},
   "outputs": [],
   "source": [
    "def least_absolute_deviations(w,x,y):\n",
    "    #your code here\n",
    "    y_pred = model(x,w)\n",
    "    #taking the sum of the absolute value divided by the number of elements\n",
    "    cost = np.sum(np.abs((y_pred-y))) * 1/len(x)\n",
    "    \n",
    "    return cost"
   ]
  },
  {
   "cell_type": "markdown",
   "metadata": {},
   "source": [
    "Q9) [5 points] Use the gradient descent function twice to learn two linear models using the new x and y from Q7 using the following parameters and plot the cost_history for both runs on the same plot. Make the plot for the first run blue and the plot for the second run red.\n",
    "\n",
    "Run 1) \n",
    "g = least_squares function\n",
    "\n",
    "w = [1.0,1.0]\n",
    "\n",
    "max_its=100\n",
    "\n",
    "alpha=0.1\n",
    "\n",
    "Run 2) \n",
    "g = least_absoulte_deviations\n",
    "\n",
    "w = [1.0,1.0]\n",
    "\n",
    "max_its=100\n",
    "\n",
    "alpha=0.1\n"
   ]
  },
  {
   "cell_type": "code",
   "execution_count": 12,
   "metadata": {},
   "outputs": [
    {
     "data": {
      "image/png": "[encoded data removed]",
      "text/plain": [
       "<Figure size 432x288 with 1 Axes>"
      ]
     },
     "metadata": {
      "needs_background": "light"
     },
     "output_type": "display_data"
    }
   ],
   "source": [
    "w = np.array([1.0, 1.0])\n",
    "max_its = 100 \n",
    "alpha = 0.1 \n",
    "# run 1 \n",
    "weights_ls, costs_ls = gradient_descent(least_squares,alpha,max_its,w,x[0],y[0])\n",
    "weights_ad, costs_ad = gradient_descent(least_absolute_deviations,alpha,max_its,w,x[0],y[0])\n",
    "plt.plot(costs_ls,'-',c='blue', label = \"Least Squares Cost\")\n",
    "plt.plot(costs_ad,'-',c='red', label = \"Absolute Deviation Cost\")\n",
    "plt.title(\"Least Squares vs Absolute Devation Cost Functions\")\n",
    "plt.xlabel(\"Step k\")\n",
    "plt.ylabel(\"Cost\")\n",
    "plt.legend()\n",
    "plt.show()"
   ]
  },
  {
   "cell_type": "markdown",
   "metadata": {},
   "source": [
    "Q10) [5 points] Use the learned weights from above to plot the two learned lines (use same colors as above). You can use the linspace method again to generate a list of xs that you can use. On the same figure, also plot the scatter plot from Q7. Which of these lines look like a better fit to you? \n"
   ]
  },
  {
   "cell_type": "code",
   "execution_count": 13,
   "metadata": {},
   "outputs": [
    {
     "data": {
      "image/png": "[encoded data removed]",
      "text/plain": [
       "<Figure size 432x288 with 1 Axes>"
      ]
     },
     "metadata": {
      "needs_background": "light"
     },
     "output_type": "display_data"
    }
   ],
   "source": [
    "s = np.linspace(np.min(x),np.max(x))\n",
    "min_weights_ls = weights_ls[costs_ls.index(np.min(costs_ls))]\n",
    "min_weights_ad = weights_ad[costs_ad.index(np.min(costs_ad))]\n",
    "plt.plot(x[0], y[0], 'o', c='orange', label=\"Original Points\")\n",
    "plt.plot(x[0], model(x[0], min_weights_ls), '-', c= 'blue', label=\"Predicted Points using Least Squares Cost\")\n",
    "plt.plot(x[0], model(x[0], min_weights_ad), '-', c= 'red', label=\"Predicted Points using Absolute Deviation Cost\")\n",
    "plt.title(\"Predicted and Original Points of Regression Outliers\")\n",
    "plt.legend()\n",
    "plt.show()"
   ]
  },
  {
   "cell_type": "markdown",
   "metadata": {},
   "source": [
    "Q11) [6 points] Implement the mean squared error (MSE) and the mean absolute deviation functions from class. The functions should take in as input an array of actual ys and an array of predicted ys and return the prediction error."
   ]
  },
  {
   "cell_type": "code",
   "execution_count": 14,
   "metadata": {},
   "outputs": [],
   "source": [
    "def MSE(y_actual,y_pred):\n",
    "    #Your code here\n",
    "    #taking the sum of the square divided by the number of elements\n",
    "    error = np.sum(np.square(y_pred - y_actual)) * (1/len(y_pred))\n",
    "    return error\n",
    "\n",
    "def MAD(y_actual,y_pred):\n",
    "    #Your code here\n",
    "    #taking the sum of the absolute value divided by the number of elements\n",
    "    error = np.sum(np.abs(y_pred - y_actual)) * (1/len(y_pred))\n",
    "    return error"
   ]
  },
  {
   "cell_type": "markdown",
   "metadata": {},
   "source": [
    "Q12) [4 points] Use the functions above to report the MSE and MAD for the two models learned in Q9, using the x and y from Q7. You should have 4 values total, two for each model. Which model is doing better? (Note that since you are evaluating the model on the training data, this corresponds to the training error)"
   ]
  },
  {
   "cell_type": "code",
   "execution_count": 15,
   "metadata": {},
   "outputs": [
    {
     "name": "stdout",
     "output_type": "stream",
     "text": [
      "Mean Squared Error for the Least Squared Cost Model: 6.84139430067187\n",
      "Mean Squared Error for the Absolute Deviation Cost Model: 9.851717052015651\n",
      "Mean Absolute Deviation Error for the Least Squared Cost Model: 1.6893703656370613\n",
      "Mean Absolute Deviation Error for the Absolute Deviation Cost Model: 1.0924206937396537\n"
     ]
    }
   ],
   "source": [
    "#Your code here\n",
    "y_pred_ls = model(x[0], weights_ls[-1])\n",
    "y_pred_ad = model(x[0], weights_ad[-1])\n",
    "print(\"Mean Squared Error for the Least Squared Cost Model: \" + str(MSE(y[0], y_pred_ls)))\n",
    "print(\"Mean Squared Error for the Absolute Deviation Cost Model: \" + str(MSE(y[0], y_pred_ad)))\n",
    "print(\"Mean Absolute Deviation Error for the Least Squared Cost Model: \" + str(MAD(y[0], y_pred_ls)))\n",
    "print(\"Mean Absolute Deviation Error for the Absolute Deviation Cost Model: \" + str(MAD(y[0], y_pred_ad)))"
   ]
  },
  {
   "cell_type": "markdown",
   "metadata": {},
   "source": [
    "Q13) [6 points] Implement the L1 and L2 regularizers from class. Recall the regularizers take in input the weight vector and return a score based on the L1 or L2 norm of the weights"
   ]
  },
  {
   "cell_type": "code",
   "execution_count": 16,
   "metadata": {},
   "outputs": [],
   "source": [
    "def L2_regularizer(w):\n",
    "    #your code here\n",
    "    #L2 term\n",
    "    L2 = np.sum(np.square(w))\n",
    "    return L2\n",
    "\n",
    "def L1_regularizer(w):\n",
    "    #your code here\n",
    "    #L1 term \n",
    "    L1 = np.sum(np.abs(w))\n",
    "    return L1"
   ]
  },
  {
   "cell_type": "markdown",
   "metadata": {},
   "source": [
    "Q14) [12 points] Turn the least squares function implemented in Q2 into the Ridge (L2) and Lasso (L1) least squares (covered in class) using the functions implemented in Q13. Recall that $\\lambda$ is used as a hyperparameter to specify the smoothness of the function learned (higher $\\lambda$ leads to simpler and smoother functions whereas lower $\\lambda$ leads to better fitting to the data. $\\lambda=0$ is the same as non-regularized least-squares)"
   ]
  },
  {
   "cell_type": "code",
   "execution_count": 17,
   "metadata": {},
   "outputs": [],
   "source": [
    "def ridge(w,x,y,lmbda):    \n",
    "    #your code here\n",
    "    #implementing l2\n",
    "    cost = np.sum(np.square(y_pred - y_actual)) * (1/len(y_pred)) + lmbda * L2_regularizer(w)\n",
    "    return cost\n",
    "\n",
    "def lasso(w,x,y,lmbda):    \n",
    "    #your code here\n",
    "    #implementing L2\n",
    "    cost = np.sum(np.square(y_pred - y_actual)) * (1/len(y_pred)) + lmbda * L1_regularizer(w)\n",
    "    return cost"
   ]
  },
  {
   "cell_type": "markdown",
   "metadata": {},
   "source": [
    "# The rest of the questions are for bonus points, but highly recommended"
   ]
  },
  {
   "cell_type": "markdown",
   "metadata": {},
   "source": [
    "Q15) [2 points] The file 'weatherHistory.csv'has 96,454 lines, each one corresponding to a data point. Each row (i.e., data point), has several columns. Read the data file. Note that the first line is the header describing each column."
   ]
  },
  {
   "cell_type": "code",
   "execution_count": 18,
   "metadata": {},
   "outputs": [],
   "source": [
    "#Your code here\n",
    "import pandas as pd\n",
    "\n",
    "x = []\n",
    "y = []\n",
    "\n",
    "col_list = ['Date', 'Summary', 'Precip', 'Temperature', 'Apparent_Temperature', 'Humidity', 'Wind_Speed', 'Wind_Bearing', 'Visibility', 'Loud_Cover', 'Pressure', 'Daily_Summary']\n",
    "x_col_list = ['Apparent_Temperature', 'Humidity', 'Wind_Speed', 'Wind_Bearing', 'Visibility', 'Pressure']\n",
    "y_col_list = ['Temperature']\n",
    "\n",
    "x = pd.read_csv('weatherHistory.csv', usecols=x_col_list)\n",
    "y = pd.read_csv('weatherHistory.csv', usecols=y_col_list)\n"
   ]
  },
  {
   "cell_type": "markdown",
   "metadata": {},
   "source": [
    "Q16) [5 points] Use the data above to set y to be the temperatures and X to be the following columns (in order): [Apparent_Temperature, Humidity, Wind_Speed, Wind_Bearing, Visibility, Pressure] Basically, we want to see whether we can predict the temperature, using the features in X."
   ]
  },
  {
   "cell_type": "code",
   "execution_count": 19,
   "metadata": {},
   "outputs": [],
   "source": [
    "#Your code here\n",
    "# see Q15"
   ]
  },
  {
   "cell_type": "markdown",
   "metadata": {},
   "source": [
    "We are now going to using a well-known ML library called sklearn. If you do not have it installed, please do so using this instruction: https://scikit-learn.org/stable/install.html\n",
    "\n",
    "sklearn comes with many models already implemented, below we import the standard linear regression, Ridge, and Lasso models from sklearn. We also import a method that can divide our data into train/test sets. Please run the cell below."
   ]
  },
  {
   "cell_type": "code",
   "execution_count": 20,
   "metadata": {},
   "outputs": [],
   "source": [
    "from sklearn.linear_model import LinearRegression, Ridge, Lasso \n",
    "from sklearn.model_selection import train_test_split "
   ]
  },
  {
   "cell_type": "markdown",
   "metadata": {},
   "source": [
    "This library is very easy to use. We briefly went over it in the class but please use the API and user guide  ( https://scikit-learn.org) to learn exactly how to use this library.\n",
    "\n",
    "For instance, learning a linear regression model using sklearn can be done in two lines:\n",
    "\n",
    "linearModel = LinearRegression() \n",
    "\n",
    "linearModel.fit(x_train, y_train)"
   ]
  },
  {
   "cell_type": "markdown",
   "metadata": {},
   "source": [
    "Q17) [2 points] Use the train_test_split to divide your modified data from Q16 into 80% train, 20% test. "
   ]
  },
  {
   "cell_type": "code",
   "execution_count": 21,
   "metadata": {},
   "outputs": [],
   "source": [
    "#Your code here\n",
    "x_train, x_test, y_train, y_test = train_test_split(x, y, test_size=0.2, train_size=0.8, random_state = 0)"
   ]
  },
  {
   "cell_type": "markdown",
   "metadata": {},
   "source": [
    "Q18) [10 points] Use sklearn to train a LinearRegression model using the data above. Report the performance of the model on the test data (use sklearn's MSE implementation: https://scikit-learn.org/stable/modules/generated/sklearn.metrics.mean_squared_error.html). Note that the .predict method can be used to get the y_predictions for the test xs."
   ]
  },
  {
   "cell_type": "code",
   "execution_count": 22,
   "metadata": {},
   "outputs": [
    {
     "data": {
      "text/plain": [
       "0.9000557948711279"
      ]
     },
     "execution_count": 22,
     "metadata": {},
     "output_type": "execute_result"
    }
   ],
   "source": [
    "from sklearn.metrics import mean_squared_error\n",
    "#Your code here\n",
    "linearModel = LinearRegression()\n",
    "linearModel.fit(x_train, y_train)\n",
    "y_pred = linearModel.predict(x_test)\n",
    "mean_squared_error(y_test, y_pred)"
   ]
  },
  {
   "cell_type": "markdown",
   "metadata": {},
   "source": [
    "Q19) [10 points] Repeat Q18 but instead of LinearRegression, use the Ridge and Lasso functions. You can keep the default alpha (note that what we called lambda in the class, the hyperparameter for regularization, is called alpha in sklearn. It is the same thing)."
   ]
  },
  {
   "cell_type": "code",
   "execution_count": 23,
   "metadata": {},
   "outputs": [
    {
     "name": "stdout",
     "output_type": "stream",
     "text": [
      "MSE for ridge: 0.9000555993918369\n",
      "MSE for lasso: 0.9829532799252955\n"
     ]
    }
   ],
   "source": [
    "#Your code here\n",
    "ridge = Ridge()\n",
    "ridge.fit(x_train, y_train)\n",
    "y_ridge = ridge.predict(x_test)\n",
    "print(\"MSE for ridge: \" + str(mean_squared_error(y_test, y_ridge)))\n",
    "\n",
    "lasso = Lasso()\n",
    "lasso.fit(x_train, y_train)\n",
    "y_lasso = lasso.predict(x_test)\n",
    "print(\"MSE for lasso: \" + str(mean_squared_error(y_test, y_lasso)))"
   ]
  },
  {
   "cell_type": "markdown",
   "metadata": {},
   "source": [
    "Q20) [4 points] Print the learned parameters for the Ridge and Lasso models (using .coef_).  Note that the parameters below correspond to the feature vector ( [Apparent_Temperature, Humidity, Wind_Speed, Wind_Bearing, Visibility, Pressure]), in order. I.e., the first value corresponds to \"Apparent_Temperature\", etc. What is the difference between the ridge and lasso parameters? Which features, if any, have been eliminated by lasso?"
   ]
  },
  {
   "cell_type": "code",
   "execution_count": 24,
   "metadata": {},
   "outputs": [
    {
     "name": "stdout",
     "output_type": "stream",
     "text": [
      "Ridge learned parameters: [[ 8.72193462e-01 -1.42439143e+00  7.95286045e-02 -3.96351761e-04\n",
      "   8.51571883e-03 -2.33032827e-04]]\n",
      "Lasso learned parameters: [ 8.79998461e-01 -0.00000000e+00  6.86817693e-02 -2.42716740e-04\n",
      "  0.00000000e+00 -1.80316383e-04]\n",
      "\n",
      "\n",
      "The differences here are subtle but parameters 2 and 5 \n",
      "(corresponding to Humidity and Visibility) are eliminated by lasso\n"
     ]
    }
   ],
   "source": [
    "#Your code here\n",
    "print(\"Ridge learned parameters: \" + str(ridge.coef_))\n",
    "print(\"Lasso learned parameters: \" + str(lasso.coef_))\n",
    "print(\"\\n\\nThe differences here are subtle but parameters 2 and 5 \\n(corresponding to Humidity and Visibility) are eliminated by lasso\")"
   ]
  }
 ],
 "metadata": {
  "kernelspec": {
   "display_name": "Python 3",
   "language": "python",
   "name": "python3"
  },
  "language_info": {
   "codemirror_mode": {
    "name": "ipython",
    "version": 3
   },
   "file_extension": ".py",
   "mimetype": "text/x-python",
   "name": "python",
   "nbconvert_exporter": "python",
   "pygments_lexer": "ipython3",
   "version": "3.7.6"
  }
 },
 "nbformat": 4,
 "nbformat_minor": 2
}
