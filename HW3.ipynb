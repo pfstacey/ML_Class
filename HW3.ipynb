{
 "cells": [
  {
   "cell_type": "markdown",
   "metadata": {},
   "source": [
    "Please run the cell below to import libraries needed for this HW. Please use the autograd numpy, otherwise you will have issues. Please remember to always use the np library for mathematical functions (e.g., np.log, np.exp, np.sum, etc)"
   ]
  },
  {
   "cell_type": "code",
   "execution_count": 1,
   "metadata": {},
   "outputs": [],
   "source": [
    "import autograd.numpy as np\n",
    "from autograd import grad \n",
    "import matplotlib.pyplot as plt\n",
    "%matplotlib inline"
   ]
  },
  {
   "cell_type": "markdown",
   "metadata": {},
   "source": [
    "Q1) [5 points] Implement the sigmod funcation discussed in class. The function takes a value, x, as input and returns the sigmoid function applied to the value."
   ]
  },
  {
   "cell_type": "code",
   "execution_count": 2,
   "metadata": {},
   "outputs": [],
   "source": [
    "def sigmoid(x):\n",
    "    #Your code here\n",
    "    y = 1 / (1 + np.exp(-1 * x))\n",
    "    return y"
   ]
  },
  {
   "cell_type": "markdown",
   "metadata": {},
   "source": [
    "Q2) [20 points] Implement the logistic regression model and the cross entropy cost discussed in class. Note that the logistic regression model relies on the sigmoid function (which you have implemented above) and the linear  model (which you have implemented in HW2). You can use the linear model from HW2 for this problem. Similar to the least-squares cost from HW2, the cross entropy cost takes in as input an array of weights, w, an array of x's and an array of ys and return a float indicating the total cost."
   ]
  },
  {
   "cell_type": "code",
   "execution_count": 3,
   "metadata": {},
   "outputs": [],
   "source": [
    "#Your linear model from HW2\n",
    "def model(x,w):\n",
    "    #Your code here\n",
    "    y = w[0] + np.dot(x.T, w[1:])\n",
    "    return y\n",
    "\n",
    "#The logistic regression cross entropy cost\n",
    "def cross_entropy(w,x,y):\n",
    "    #Your code here\n",
    "    ones = np.ones_like(y)\n",
    "    sigmod = sigmoid(model(x,w))\n",
    "    cross_ent = np.multiply(y, np.log(sigmod + 0.000000000001)) + np.multiply(ones - y, np.log(1 - sigmod + + 0.000000000001))\n",
    "    cost = (-1/(len(y))) * np.sum(cross_ent)\n",
    "    return cost"
   ]
  },
  {
   "cell_type": "markdown",
   "metadata": {},
   "source": [
    "Q3) [2 points] Run the code below to read a data file. Plot a scatter plot of x vs y."
   ]
  },
  {
   "cell_type": "code",
   "execution_count": 4,
   "metadata": {},
   "outputs": [
    {
     "data": {
      "text/plain": [
       "Text(0.5, 1.0, 'Classification Entropy Data')"
      ]
     },
     "execution_count": 4,
     "metadata": {},
     "output_type": "execute_result"
    },
    {
     "data": {
      "image/png": "[encoded data removed]",
      "text/plain": [
       "<Figure size 432x288 with 1 Axes>"
      ]
     },
     "metadata": {
      "needs_background": "light"
     },
     "output_type": "display_data"
    }
   ],
   "source": [
    "csvname = '2d_classification_data_v1_entropy.csv'\n",
    "data = np.loadtxt(csvname,delimiter = ',')\n",
    "x = data[:-1,:]\n",
    "y = data[-1:,:] \n",
    "plt.plot(x[0],y[0], \"o\")\n",
    "plt.title(\"Classification Entropy Data\")"
   ]
  },
  {
   "cell_type": "markdown",
   "metadata": {},
   "source": [
    "Q4) [10 points] Move the gradient descent function from HW2. Run the function using the cross_entropy cost and the x and y from above. The parameters should be set to: max_its=2000,w=[3.0,3.0 ], and alpha=1. Save the cost and weight history returned by the gradient descent function. Plot the cost history.\n"
   ]
  },
  {
   "cell_type": "code",
   "execution_count": 5,
   "metadata": {},
   "outputs": [],
   "source": [
    "##gradient descent from HW2\n",
    "def gradient_descent(g,alpha,max_its,w,x,y):\n",
    "    #Your code here\n",
    "    gradient = grad(g)   ## This is how you use the autograd library to find the gradient of a function  \n",
    "    ##Your code here\n",
    "    weight_history = [w]\n",
    "    cost_history = [g(w, x, y)]\n",
    "    \n",
    "    i = 0\n",
    "    current_location = w\n",
    "    while(i < max_its):\n",
    "        # calculating and updating the cost of the current_location using the original cost function \n",
    "        current_location = current_location - (alpha * gradient(current_location, x, y))\n",
    "        cost_history.append(g(current_location, x, y))\n",
    "        weight_history.append(current_location)\n",
    "        #print(current_location)\n",
    "        i+=1\n",
    "    return weight_history,cost_history"
   ]
  },
  {
   "cell_type": "code",
   "execution_count": 6,
   "metadata": {},
   "outputs": [
    {
     "data": {
      "image/png": "[encoded data removed]",
      "text/plain": [
       "<Figure size 432x288 with 1 Axes>"
      ]
     },
     "metadata": {
      "needs_background": "light"
     },
     "output_type": "display_data"
    }
   ],
   "source": [
    "##Call the gradient_descent function here\n",
    "##Plot the cost history here\n",
    "def g(w,x,y):\n",
    "    return cross_entropy(w,x,y)\n",
    "\n",
    "w0 = 3.0\n",
    "w1 = 3.0\n",
    "w = np.array([w0, w1])\n",
    "max_its = 2000\n",
    "alpha = 1\n",
    "\n",
    "weights, costs = gradient_descent(g,alpha,max_its,w,x,y)\n",
    "plt.plot(costs, '-', label = \"alpha = \" + str(alpha))\n",
    "plt.xlabel(\"Step k\")\n",
    "plt.ylabel(\"Cost\")\n",
    "plt.title(\"Minimizing Cost\")\n",
    "plt.legend()\n",
    "plt.show()"
   ]
  },
  {
   "cell_type": "markdown",
   "metadata": {},
   "source": [
    "Q5) [10 points] Implement a logistic regression classifier that takes in the learned weights and x as input and returns the probability of the positive class (note that this is just the output of the sigmoid applied to the linear combination of the x and w)"
   ]
  },
  {
   "cell_type": "code",
   "execution_count": 7,
   "metadata": {},
   "outputs": [],
   "source": [
    "def logistic_regression(learned_w,x):\n",
    "    #your code here\n",
    "    positive_class_prob = sigmoid(model(x, learned_w))\n",
    "    \n",
    "    return positive_class_prob"
   ]
  },
  {
   "cell_type": "markdown",
   "metadata": {},
   "source": [
    "Q6) [5 points] Use the learned weights from the last gradient descent run and the logistic regression function implemented above to plot the learned curve. You can use the linspace method (shown below) to generate a list of xs that you can use. You need to generate a y for each of the candidate xs using the logistic regression function and the learned weights. On the same figure, also plot the scatter plot from Q3. \n"
   ]
  },
  {
   "cell_type": "code",
   "execution_count": 8,
   "metadata": {},
   "outputs": [
    {
     "name": "stdout",
     "output_type": "stream",
     "text": [
      "Cost of learned points 0.2929420557609602\n"
     ]
    },
    {
     "data": {
      "image/png": "[encoded data removed]",
      "text/plain": [
       "<Figure size 432x288 with 1 Axes>"
      ]
     },
     "metadata": {
      "needs_background": "light"
     },
     "output_type": "display_data"
    }
   ],
   "source": [
    "s = np.array([np.linspace(np.min(x),np.max(x))])\n",
    "#Your code here\n",
    "plt.plot(x[0], y[0], 'o', label=\"Original Points\")\n",
    "plt.plot(s[0], logistic_regression(weights[-1], s), '-', label=\"Learned Points\")\n",
    "plt.title(\"Classification Entropy Data\")\n",
    "plt.legend()\n",
    "print(\"Cost of learned points \" + str(costs[-1]))"
   ]
  },
  {
   "cell_type": "markdown",
   "metadata": {},
   "source": [
    "Q7) [5 points] Slightly modify the logistic regression model above so that it returns a 1 or 0 based on the specified threshold."
   ]
  },
  {
   "cell_type": "code",
   "execution_count": 9,
   "metadata": {},
   "outputs": [],
   "source": [
    "def logistic_regression_modified(learned_w,x, threshold):\n",
    "    #your code here\n",
    "    y_pred = logistic_regression(learned_w, x)\n",
    "    class_label = []\n",
    "    for y in y_pred:\n",
    "        if y >= threshold: \n",
    "            class_label.append(1)\n",
    "        else:\n",
    "            class_label.append(0)\n",
    "\n",
    "    return class_label"
   ]
  },
  {
   "cell_type": "markdown",
   "metadata": {},
   "source": [
    "Q8) [15 points] Write a function (called evaluate) that takes in actual and predicted ys (for a binary classification problem) and return a confusion matrix and the accuracy. Use the modified logistic regression model and the evaluate function below to report the confusion matrix and accuracy for the x and y used for our training at a threshold of 0.5.  "
   ]
  },
  {
   "cell_type": "code",
   "execution_count": 10,
   "metadata": {},
   "outputs": [],
   "source": [
    "def evaluate(y_actual,y_pred):\n",
    "    ## Your code here\n",
    "    false_positive = 0\n",
    "    false_negative = 0\n",
    "    true_positive = 0 \n",
    "    true_negative = 0\n",
    "    i = 0\n",
    "    while i < len(y_actual):\n",
    "        if y_actual[i] == 1:\n",
    "            if y_actual[i] != y_pred[i]:\n",
    "                false_positive += 1\n",
    "            else:\n",
    "                true_positive += 1\n",
    "        else:\n",
    "            if y_actual[i] != y_pred[i]:\n",
    "                false_negative += 1\n",
    "            else:\n",
    "                true_negative += 1\n",
    "        i = i + 1\n",
    "                \n",
    "    accuracy = (true_positive + true_negative) / len(y_actual)\n",
    "    return false_positive, false_negative, true_positive, true_negative, accuracy"
   ]
  },
  {
   "cell_type": "code",
   "execution_count": 11,
   "metadata": {},
   "outputs": [
    {
     "name": "stdout",
     "output_type": "stream",
     "text": [
      "There are 0 false positives, 0 false negatives, 6 true positives, and 5 true negatives with an accuracy of 1.0\n"
     ]
    }
   ],
   "source": [
    "y_pred = logistic_regression_modified(weights[-1], x, 0.5)\n",
    "fp, fn, tp, tn, a = evaluate(y[0], y_pred)\n",
    "print(\"There are \"+str(fp)+\" false positives, \"+str(fn)+\" false negatives, \"+str(tp)+\" true positives, and \"+str(tn)+\" true negatives with an accuracy of \"+str(a))"
   ]
  },
  {
   "cell_type": "markdown",
   "metadata": {},
   "source": [
    "Q9) [20 points] Implement the perceptron cost function from the class (the softmax version). Note that the perceptron cost also uses the linear model (the model function from question 2)."
   ]
  },
  {
   "cell_type": "code",
   "execution_count": 12,
   "metadata": {},
   "outputs": [],
   "source": [
    "def perceptron_cost(w,x,y):    \n",
    "   #Your code here\n",
    "    cost = np.sum(np.log(1 + np.exp( np.multiply((-1 * y), model(x,w)))))\n",
    "    return cost"
   ]
  },
  {
   "cell_type": "markdown",
   "metadata": {},
   "source": [
    "Q10) [10 points] Run gradient descent function using the perceptron cost and the x and y from above and the parameters set to: max_its=2000,w=[1.0,1.0], and alpha=10. Save the cost and weight history returned by the gradient descent function. Plot the cost history. Which cost seems to do better on this dataset? Why do think that is?\n"
   ]
  },
  {
   "cell_type": "code",
   "execution_count": 13,
   "metadata": {},
   "outputs": [
    {
     "data": {
      "image/png": "[encoded data removed]",
      "text/plain": [
       "<Figure size 432x288 with 1 Axes>"
      ]
     },
     "metadata": {
      "needs_background": "light"
     },
     "output_type": "display_data"
    },
    {
     "name": "stdout",
     "output_type": "stream",
     "text": [
      "The perceptron cost seems to better on this dataset because it converges faster and generally looks better.\n",
      "I think that's because the perceptron cost is simply better suited to the data and the way the data is fitted in this case\n"
     ]
    }
   ],
   "source": [
    "##Call the gradient_descent function here\n",
    "##Plot the cost history here\n",
    "max_its = 2000 \n",
    "alpha = 10 \n",
    "w0 = 1.0\n",
    "w1 = 1.0\n",
    "w = np.array([w0, w1])\n",
    "alpha = 10\n",
    "\n",
    "weights, costs = gradient_descent(perceptron_cost,alpha,max_its,w,x,y)\n",
    "plt.plot(costs, '-', label = \"alpha = \" + str(alpha))\n",
    "plt.xlabel(\"Step k\")\n",
    "plt.ylabel(\"Cost\")\n",
    "plt.title(\"Minimizing Cost\")\n",
    "plt.legend()\n",
    "plt.show()\n",
    "\n",
    "print(\"The perceptron cost seems to better on this dataset because it converges faster and generally looks better.\")\n",
    "print(\"I think that's because the perceptron cost is simply better suited to the data and the way the data is fitted in this case\")"
   ]
  },
  {
   "cell_type": "markdown",
   "metadata": {},
   "source": [
    "## The rest of these problems are for bonus points"
   ]
  },
  {
   "cell_type": "markdown",
   "metadata": {},
   "source": [
    "Q11) [2 points]  The file 'heart.csv' has 304 lines, each one corresponding to a data point. Each row (i.e., data point), has several columns. Read the data file. Note that the first line is the header describing each column."
   ]
  },
  {
   "cell_type": "code",
   "execution_count": 14,
   "metadata": {},
   "outputs": [],
   "source": [
    "##Your code here\n",
    "import pandas as pd\n",
    "\n",
    "x = []\n",
    "y = []\n",
    "\n",
    "col_list = ['age', 'sex', 'cp', 'trestbps', 'chol', 'fbs', 'restecg', 'thalach', 'exang', 'oldpeak', 'slope', 'ca', 'thal', 'target']\n",
    "x_col_list = ['age', 'sex', 'cp', 'trestbps', 'chol', 'fbs', 'restecg', 'thalach', 'exang', 'oldpeak', 'slope', 'ca', 'thal']\n",
    "y_col_list = ['target']\n",
    "\n",
    "x = pd.read_csv('heart.csv', usecols=x_col_list)\n",
    "y = pd.read_csv('heart.csv', usecols=y_col_list)"
   ]
  },
  {
   "cell_type": "markdown",
   "metadata": {},
   "source": [
    "Q12) [2 points] Use the data above to set y to be the \"target\" and X to be the remaining columns."
   ]
  },
  {
   "cell_type": "code",
   "execution_count": 15,
   "metadata": {},
   "outputs": [],
   "source": [
    "##Your code here\n",
    "# see above"
   ]
  },
  {
   "cell_type": "markdown",
   "metadata": {},
   "source": [
    "Q13) [2 points] Run the code below to import the logistic regression and the train_test split functions from sklearn. Split your data into 80% train 20% test."
   ]
  },
  {
   "cell_type": "code",
   "execution_count": 16,
   "metadata": {},
   "outputs": [],
   "source": [
    "from sklearn.linear_model import LogisticRegression\n",
    "from sklearn.model_selection import train_test_split \n",
    "##Your code here\n",
    "x_train, x_test, y_train, y_test = train_test_split(x, y, test_size=0.2, train_size=0.8, random_state = 0)"
   ]
  },
  {
   "cell_type": "markdown",
   "metadata": {},
   "source": [
    "Q14) [5 points] Use sklearn to fit a logistic regression model on your training set. Use all the default parameter. Do not evaluate at this point. (You can find out about sklearn logistic regression here: https://scikit-learn.org/stable/modules/generated/sklearn.linear_model.LogisticRegression.html)"
   ]
  },
  {
   "cell_type": "code",
   "execution_count": 17,
   "metadata": {},
   "outputs": [
    {
     "name": "stderr",
     "output_type": "stream",
     "text": [
      "/Users/piperfrances/anaconda3/lib/python3.7/site-packages/sklearn/utils/validation.py:760: DataConversionWarning: A column-vector y was passed when a 1d array was expected. Please change the shape of y to (n_samples, ), for example using ravel().\n",
      "  y = column_or_1d(y, warn=True)\n",
      "/Users/piperfrances/anaconda3/lib/python3.7/site-packages/sklearn/linear_model/_logistic.py:940: ConvergenceWarning: lbfgs failed to converge (status=1):\n",
      "STOP: TOTAL NO. of ITERATIONS REACHED LIMIT.\n",
      "\n",
      "Increase the number of iterations (max_iter) or scale the data as shown in:\n",
      "    https://scikit-learn.org/stable/modules/preprocessing.html\n",
      "Please also refer to the documentation for alternative solver options:\n",
      "    https://scikit-learn.org/stable/modules/linear_model.html#logistic-regression\n",
      "  extra_warning_msg=_LOGISTIC_SOLVER_CONVERGENCE_MSG)\n"
     ]
    },
    {
     "data": {
      "text/plain": [
       "LogisticRegression(C=1.0, class_weight=None, dual=False, fit_intercept=True,\n",
       "                   intercept_scaling=1, l1_ratio=None, max_iter=100,\n",
       "                   multi_class='auto', n_jobs=None, penalty='l2',\n",
       "                   random_state=None, solver='lbfgs', tol=0.0001, verbose=0,\n",
       "                   warm_start=False)"
      ]
     },
     "execution_count": 17,
     "metadata": {},
     "output_type": "execute_result"
    }
   ],
   "source": [
    "##Your code here\n",
    "logisticModel = LogisticRegression()\n",
    "logisticModel.fit(x_train, y_train)"
   ]
  },
  {
   "cell_type": "markdown",
   "metadata": {},
   "source": [
    "Q15) [5 points] Use the .predict_proba function of the logistic regression model that you have learned on your X_test. Note that the .predict_proba function returns an array of tuples where each element corresponds to the predicted probability for class 0 and 1 of the data point."
   ]
  },
  {
   "cell_type": "code",
   "execution_count": 18,
   "metadata": {},
   "outputs": [],
   "source": [
    "##Your code here\n",
    "y_pred = logisticModel.predict_proba(x)"
   ]
  },
  {
   "cell_type": "markdown",
   "metadata": {},
   "source": [
    "Q16) [2 points] Filter the predicted probabilties from the last question to an array containing only the probabilites for class 1. I.e., you should no longer have tuples."
   ]
  },
  {
   "cell_type": "code",
   "execution_count": 19,
   "metadata": {},
   "outputs": [],
   "source": [
    "##Your code here\n",
    "y_filtered = []\n",
    "i = 0\n",
    "while i < len(y_pred):\n",
    "    y_filtered.append(y_pred[i][1])\n",
    "    i = i + 1"
   ]
  },
  {
   "cell_type": "markdown",
   "metadata": {},
   "source": [
    "Q17) [8 points] Use the roc_curve function from sklearn (https://scikit-learn.org/stable/modules/generated/sklearn.metrics.roc_curve.html) to plot the ROC curve for your predictions using the predicted probabilities for class 1 and your y_test (use the default parameters). Also, print out the thresholds generated by the roc_curve function."
   ]
  },
  {
   "cell_type": "code",
   "execution_count": 20,
   "metadata": {},
   "outputs": [
    {
     "name": "stdout",
     "output_type": "stream",
     "text": [
      "Thresholds generated: [1.99317070e+00 9.93170702e-01 9.27609489e-01 9.27331454e-01\n",
      " 9.25210994e-01 9.23249160e-01 9.20840147e-01 9.19781906e-01\n",
      " 9.13011372e-01 9.12419066e-01 8.48902927e-01 8.46958226e-01\n",
      " 8.23595442e-01 8.16467338e-01 8.01460649e-01 7.99016559e-01\n",
      " 7.98168305e-01 7.96066593e-01 7.71472968e-01 7.67805419e-01\n",
      " 7.08069128e-01 7.00228559e-01 6.97452824e-01 6.89506360e-01\n",
      " 6.62466309e-01 6.51351837e-01 6.47468001e-01 6.42040788e-01\n",
      " 6.36094395e-01 6.35959255e-01 6.31653561e-01 6.26701242e-01\n",
      " 6.17887281e-01 5.82704174e-01 5.59872620e-01 5.30990304e-01\n",
      " 5.06911841e-01 5.06410913e-01 4.94511347e-01 4.80050682e-01\n",
      " 4.56139115e-01 4.17417331e-01 4.16160853e-01 4.01842112e-01\n",
      " 3.99843085e-01 3.84171027e-01 3.75352687e-01 3.51715974e-01\n",
      " 2.17193836e-01 2.10360920e-01 1.56254503e-01 1.45499060e-01\n",
      " 9.69360138e-02 9.45233570e-02 9.44806795e-02 8.87366789e-02\n",
      " 5.97747790e-02 5.85177305e-02 3.99303085e-02 3.76855807e-02\n",
      " 9.03121684e-04]\n"
     ]
    },
    {
     "data": {
      "image/png": "[encoded data removed]",
      "text/plain": [
       "<Figure size 432x288 with 1 Axes>"
      ]
     },
     "metadata": {
      "needs_background": "light"
     },
     "output_type": "display_data"
    }
   ],
   "source": [
    "##Your code here\n",
    "from sklearn.metrics import roc_curve, roc_auc_score\n",
    "fpr, tpr, thresholds = roc_curve(y, y_filtered)\n",
    "plt.plot(fpr, tpr, '-', label = \"Curve generated by Sklearn\")\n",
    "plt.xlabel(\"False Positive Rate\")\n",
    "plt.ylabel(\"True Positive Rate\")\n",
    "plt.title(\"ROC Curve for Heart Data\")\n",
    "plt.legend()\n",
    "print(\"Thresholds generated: \" + str(thresholds))"
   ]
  },
  {
   "cell_type": "markdown",
   "metadata": {},
   "source": [
    "Q18) [2 points] Use the roc_auc_score function from sklearn (https://scikit-learn.org/stable/modules/generated/sklearn.metrics.roc_auc_score.html#sklearn.metrics.roc_auc_score) to report the AUC score using the exact same setup as the last question."
   ]
  },
  {
   "cell_type": "code",
   "execution_count": 21,
   "metadata": {},
   "outputs": [
    {
     "name": "stdout",
     "output_type": "stream",
     "text": [
      "ROC AUC score: 0.9201141853315767\n"
     ]
    }
   ],
   "source": [
    "##Your code here\n",
    "score = roc_auc_score(y, y_filtered)\n",
    "print(\"ROC AUC score: \" + str(score))"
   ]
  }
 ],
 "metadata": {
  "kernelspec": {
   "display_name": "Python 3",
   "language": "python",
   "name": "python3"
  },
  "language_info": {
   "codemirror_mode": {
    "name": "ipython",
    "version": 3
   },
   "file_extension": ".py",
   "mimetype": "text/x-python",
   "name": "python",
   "nbconvert_exporter": "python",
   "pygments_lexer": "ipython3",
   "version": "3.7.6"
  }
 },
 "nbformat": 4,
 "nbformat_minor": 2
}
